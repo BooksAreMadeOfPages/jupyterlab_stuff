{
 "cells": [
  {
   "cell_type": "markdown",
   "id": "c2804c57-48d4-4eff-aad3-824b7e67950b",
   "metadata": {},
   "source": [
    "# EFFETTO DOPPLER IN DUE DIMENSIONI"
   ]
  },
  {
   "cell_type": "code",
   "execution_count": null,
   "id": "dcadd83f-c247-4360-ae76-f6f33182dc05",
   "metadata": {
    "tags": []
   },
   "outputs": [],
   "source": [
    "#import pygame\n",
    "import math\n",
    "import numpy as np\n",
    "import matplotlib.pyplot as plt\n",
    "from libs.mySound import *\n",
    "from libs.Particle import *\n",
    "from libs.DopplerEffect import *\n",
    "import os"
   ]
  },
  {
   "cell_type": "markdown",
   "id": "038ff735-562e-4621-bad1-27ef429345db",
   "metadata": {},
   "source": [
    "---"
   ]
  },
  {
   "cell_type": "markdown",
   "id": "b0f6f427-3ced-4f72-a886-4d4c8965a040",
   "metadata": {
    "tags": []
   },
   "source": [
    "## Descrizione fisica"
   ]
  },
  {
   "cell_type": "markdown",
   "id": "d76f51c0-adef-4ec9-b122-ac0f792c8cf2",
   "metadata": {
    "tags": []
   },
   "source": [
    "<img src='doppler0.jpg' width=\"400\">"
   ]
  },
  {
   "cell_type": "markdown",
   "id": "05c9aff2-f9b2-48c4-8e76-62212a566bd0",
   "metadata": {},
   "source": [
    "A e B sono due punti che si muovono in un piano."
   ]
  },
  {
   "cell_type": "markdown",
   "id": "e2f8d325-78a1-4e40-9bd2-6290667dc51c",
   "metadata": {},
   "source": [
    "A si muove di moto rettilineo uniforme ${\\bf{x}}_\\mathrm{A}(t) = {\\bf{v}}_\\mathrm{A}t + {\\bf{x}}_{\\mathrm{A}0}$,\n",
    "mentre B si muove di moto uniformemente accelerato ${\\bf{x}}_\\mathrm{B}(t)\n",
    "= \\frac12{\\bf{a}}_\\mathrm{B}t^2 +  {\\bf{v}}_\\mathrm{0B}t + {\\bf{x}}_{0\\mathrm{B}}$"
   ]
  },
  {
   "cell_type": "markdown",
   "id": "970ab2e3-99ea-43b4-bbc0-e7c15ac8e328",
   "metadata": {},
   "source": [
    " Il punto A emette in continuazione un suono di frequenza $f$."
   ]
  },
  {
   "cell_type": "markdown",
   "id": "dda88537-90e4-409c-9836-54e5c134ca49",
   "metadata": {},
   "source": [
    "<img src='doppler.jpg' width=\"600\">"
   ]
  },
  {
   "cell_type": "markdown",
   "id": "4e60d9ad-bb07-4ca2-9e4a-ff2cf92bab49",
   "metadata": {},
   "source": [
    "All’istante $t$ in ${\\bf{x}}_B(t)$ giunge il suono emesso all'istante $t − ∆t$ in ${\\bf{x}}_A(t − ∆t)$.\n",
    "La condizione da soddisfare è che $|{\\bf{d}}| = |{\\bf{x}}_B(t) − {\\bf{x}}_A(t − ∆t)| = c∆t$.\n",
    "\n",
    "O anche, come evidenziato in figura, ${\\bf{d}} = ∆{\\bf{x}}_A + {\\bf{d}}_0$"
   ]
  },
  {
   "cell_type": "markdown",
   "id": "a0efd61c-5238-4a4a-bbcd-1b3c2f94840e",
   "metadata": {},
   "source": [
    "Una volta noto il vettore $\\bf{d}$, vi si proiettano le velocità in modo da ottenere le velocità degli oggetti nella direzione percorsa dal suono: $v_d = \\frac{v_xd_x + v_yd_y}{\\sqrt{d_x^2 + d_y^2}}$\n",
    "\n",
    "Infine, note le velocità proiettate $ v_{\\mathrm{A}d}$ e $v_{\\mathrm{B}d}$ si inseriscono nella formula per la ottenere la nuova frequenza $f'= \\frac{c-v_{Bd}}{c-v_{Ad}}f$"
   ]
  },
  {
   "cell_type": "markdown",
   "id": "84f20338-5d90-47ec-b657-8be47cacf64e",
   "metadata": {},
   "source": [
    "---"
   ]
  },
  {
   "cell_type": "markdown",
   "id": "2544fbe5-569a-4cd9-acd4-897fa51b0c35",
   "metadata": {},
   "source": [
    "## Dati della simulazione"
   ]
  },
  {
   "cell_type": "markdown",
   "id": "2fd0575f-57cf-43e4-8a21-370faca3a017",
   "metadata": {},
   "source": [
    "<div class=\"alert alert-block alert-warning\">\n",
    "<b>Importante:</b> Per modificare i dati della simulazione basta modificare i relativi valori numerici nelle celle sottostanti. Dopodiché è necessario cliccare \"Run -> Run All Cells\" nel menù in alto a sinistra.\n",
    "</div>"
   ]
  },
  {
   "cell_type": "markdown",
   "id": "a85a549f-7dbd-49df-8c39-386878e22190",
   "metadata": {
    "tags": []
   },
   "source": [
    "### Frequenza e velocità del suono"
   ]
  },
  {
   "cell_type": "code",
   "execution_count": null,
   "id": "46a23b71-0d45-4d0b-af11-aab8801dbe80",
   "metadata": {},
   "outputs": [],
   "source": [
    "f0 = 440 # Hz\n",
    "c = 340 # m/s"
   ]
  },
  {
   "cell_type": "markdown",
   "id": "9488b5e9-7596-4582-a6aa-e3a4206bb26d",
   "metadata": {
    "tags": []
   },
   "source": [
    "### Posizione iniziale e velocità della sorgente A"
   ]
  },
  {
   "cell_type": "markdown",
   "id": "80246179-8e62-42f3-a107-7bc0f800c0f1",
   "metadata": {},
   "source": [
    "La posizione iniziale è espressa in coordinate cartesiane $(x_\\mathrm{A0}, y_\\mathrm{A0})$ in metri."
   ]
  },
  {
   "cell_type": "code",
   "execution_count": null,
   "id": "9baf724a-b7f2-407d-9dd0-e38e6c2f4f23",
   "metadata": {
    "tags": []
   },
   "outputs": [],
   "source": [
    "x_A0 = 0 # m\n",
    "y_A0 = 0 # m"
   ]
  },
  {
   "cell_type": "markdown",
   "id": "6c1fd236-9b58-4300-bf69-ba594cf09a89",
   "metadata": {},
   "source": [
    "La velocità è espressa in coordinate polari $(v_\\mathrm{A}, \\alpha_{v\\mathrm{A}})$ = (modulo, angolo) in m/s e gradi sessagesimali"
   ]
  },
  {
   "cell_type": "code",
   "execution_count": null,
   "id": "ac6d3bbe-f02d-47e0-9791-b6393fb6eb69",
   "metadata": {},
   "outputs": [],
   "source": [
    "v_A = 30 # m/s\n",
    "v_angle_A = 50 # gradi"
   ]
  },
  {
   "cell_type": "markdown",
   "id": "1b719cd4-30d5-4396-a11a-7843d38b3780",
   "metadata": {
    "tags": []
   },
   "source": [
    "### Posizione iniziale, velocità iniziale e accelerazione dell'osservatore B"
   ]
  },
  {
   "cell_type": "markdown",
   "id": "0bbbad39-c5a9-4796-a597-1db6418253dc",
   "metadata": {},
   "source": [
    "La posizione iniziale è espressa in coordinate cartesiane $(x_\\mathrm{B0}, y_\\mathrm{b0})$ in metri."
   ]
  },
  {
   "cell_type": "code",
   "execution_count": null,
   "id": "77a0f52d-cf93-4b19-a37d-d5aff0e7e14e",
   "metadata": {
    "tags": []
   },
   "outputs": [],
   "source": [
    "x_B0 = 50 # m\n",
    "y_B0 = 0 # m"
   ]
  },
  {
   "cell_type": "markdown",
   "id": "f7ab3155-3383-4447-88dd-9873b778ceea",
   "metadata": {
    "tags": []
   },
   "source": [
    "La velocità iniziale è espressa in coordinate polari $(v_\\mathrm{0B}, \\alpha_{v\\mathrm{B}})$ = (modulo, angolo) in m/s e gradi sessagesimaliessa in coordinate polari (modulo, angolo) in (m/s, gradi sessagesimali)"
   ]
  },
  {
   "cell_type": "code",
   "execution_count": null,
   "id": "38a4aaa9-395a-4c9d-9cac-e61a008c402d",
   "metadata": {},
   "outputs": [],
   "source": [
    "v_B = 15 # m/s\n",
    "v_angle_B = 120 # gradi"
   ]
  },
  {
   "cell_type": "markdown",
   "id": "f7f1236d-28ec-4504-8e8e-1dab730fdac6",
   "metadata": {
    "tags": []
   },
   "source": [
    "L'accelerazione è espressa in coordinate polari $(a_\\mathrm{B}, \\alpha_{a\\mathrm{B}})$ = (modulo, angolo) in m/s^2 e gradi sessagesimali"
   ]
  },
  {
   "cell_type": "code",
   "execution_count": null,
   "id": "046b84d2-73d4-4624-a88b-90804c4ae79a",
   "metadata": {
    "tags": []
   },
   "outputs": [],
   "source": [
    "a_B = 5 #m/s^2\n",
    "a_angle_B = 30 #gradi"
   ]
  },
  {
   "cell_type": "markdown",
   "id": "d9259c92-1522-4d85-8064-5b7ece06ecc8",
   "metadata": {},
   "source": [
    "### Inizio e fine del moto (in secondi)"
   ]
  },
  {
   "cell_type": "code",
   "execution_count": null,
   "id": "31f41b3c-fc64-4b09-a065-e14efd7f3c3c",
   "metadata": {
    "tags": []
   },
   "outputs": [],
   "source": [
    "start_time = 0  # ALWAYS                                                                                                                                    \n",
    "end_time = 10 # s\n",
    "N = 3000"
   ]
  },
  {
   "cell_type": "markdown",
   "id": "8d07452a-559f-4ba9-bbc6-6989d7eae4ec",
   "metadata": {},
   "source": [
    "---"
   ]
  },
  {
   "cell_type": "markdown",
   "id": "4b4f5063-2cad-48bd-9c77-3ef59f90df87",
   "metadata": {
    "tags": []
   },
   "source": [
    "## Simulazione"
   ]
  },
  {
   "cell_type": "code",
   "execution_count": null,
   "id": "2e7c7f9d-3dfe-4b86-bef5-d5087e993cf8",
   "metadata": {},
   "outputs": [],
   "source": [
    "S = mySound(f0, c)\n",
    "mru_A = True # PER FORZA VERO\n",
    "A = Particle(x_A0, y_A0, v_A, v_angle_A)\n",
    "mru_B = False\n",
    "B = Particle(x_B0, y_B0, v_B, v_angle_B, a_B, a_angle_B, mru_B)\n",
    "timing = tuple((start_time, end_time, N))\n",
    "\n",
    "de = DopplerEffect(A, B, S, timing)\n",
    "de.dopplerEffectSimulate()    \n",
    "de.dopplerEffectResults()"
   ]
  },
  {
   "cell_type": "code",
   "execution_count": null,
   "id": "53f51643-6987-4026-9c0c-856f0bc92f55",
   "metadata": {},
   "outputs": [],
   "source": []
  }
 ],
 "metadata": {
  "kernelspec": {
   "display_name": "Python 3 (ipykernel)",
   "language": "python",
   "name": "python3"
  },
  "language_info": {
   "codemirror_mode": {
    "name": "ipython",
    "version": 3
   },
   "file_extension": ".py",
   "mimetype": "text/x-python",
   "name": "python",
   "nbconvert_exporter": "python",
   "pygments_lexer": "ipython3",
   "version": "3.9.9"
  },
  "toc-autonumbering": false,
  "toc-showcode": false,
  "toc-showmarkdowntxt": false,
  "toc-showtags": false
 },
 "nbformat": 4,
 "nbformat_minor": 5
}
