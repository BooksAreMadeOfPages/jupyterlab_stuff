{
 "cells": [
  {
   "cell_type": "markdown",
   "id": "8b13d8d7-9183-41a4-ad7b-14ef5c6e789b",
   "metadata": {},
   "source": [
    "imports"
   ]
  },
  {
   "cell_type": "code",
   "execution_count": 67,
   "id": "e49f9b04-5bb0-4aba-95b5-f0a5021f57a9",
   "metadata": {},
   "outputs": [],
   "source": [
    "%matplotlib inline\n",
    "import pygame\n",
    "import math\n",
    "import numpy as np\n",
    "import matplotlib.pyplot as plt\n",
    "plt.rcParams['figure.figsize'] = [10, 8]"
   ]
  },
  {
   "cell_type": "markdown",
   "id": "3c8b7aa7-04b0-4177-b74d-a07ee1341ab9",
   "metadata": {},
   "source": [
    "classe Sound"
   ]
  },
  {
   "cell_type": "code",
   "execution_count": 68,
   "id": "c28079f5-c926-4003-987a-c674661f7354",
   "metadata": {
    "tags": []
   },
   "outputs": [],
   "source": [
    "{\n",
    "    \"tags\": [\n",
    "        \"hide_input\",\n",
    "    ]\n",
    "}\n",
    "class mySound:\n",
    "    def __init__(self, f0 = 440, c = 340):\n",
    "        self.f0 = f0  # frequency in Hertz                                                                                                                  \n",
    "        self.c = c   # speed in m/s  "
   ]
  },
  {
   "cell_type": "markdown",
   "id": "622bf59b-ac76-4b2a-b177-76ae881df9f1",
   "metadata": {},
   "source": [
    "buffer audio"
   ]
  },
  {
   "cell_type": "code",
   "execution_count": 69,
   "id": "9aae0399-ebaf-459e-9fc9-ca8d7e8878be",
   "metadata": {
    "tags": []
   },
   "outputs": [],
   "source": [
    "class AudioBuffer:\n",
    "    def __init__(self, N, sample_rate, delta_time, bits):\n",
    "        self.bits = bits\n",
    "        self.delta_time = delta_time # durata (in secondi) di un intervallo                                                                                 \n",
    "        self.N = N # numero di intervalli da considerare                                                                                                    \n",
    "        self.sample_rate = sample_rate # frequenza di campionamento                                                                                         \n",
    "        self.n_samples = int(round(delta_time*sample_rate))  # dati campionati in ogni singolo intervallo                                                   \n",
    "        self.phase_acc = 0  # differenza di fase cumulata                                                                                                   \n",
    "        self.audio_buffer = np.zeros((N*self.n_samples), dtype = np.int16)  # Audio buffer                                                                  \n",
    "        self.max_sample = 2**(bits - 1) - 1\n",
    "        \n",
    "    def updateAudioBuffer(self, i,f):  # i e' l'intervallo in considerazione, con la frequenza f                                                            \n",
    "        for s in range(self.n_samples):\n",
    "            tt = float(s)/self.sample_rate    # time in seconds                                                                                             \n",
    "            #grab the x-coordinate of the sine wave at a given time, while constraining the sample to what our mixer is set to with \"bits\"                  \n",
    "            self.audio_buffer[i*self.n_samples+s] = int(round(self.max_sample*math.sin(self.phase_acc + 2*math.pi*f*tt)))\n",
    "\n",
    "        phase = (f*self.delta_time - np.floor(f*self.delta_time))*2*np.pi\n",
    "        self.phase_acc += phase\n",
    "\n",
    "    def makeSoundWithAudioBuffer(self):\n",
    "        #the number of channels specified here is NOT                                                                                                       \n",
    "        #the channels talked about here http://www.pygame.org/docs/ref/mixer.html#pygame.mixer.get_num_channels                                             \n",
    "        pygame.mixer.pre_init(self.sample_rate, -self.bits, 1)\n",
    "        pygame.init()\n",
    "        sound = pygame.sndarray.make_sound(self.audio_buffer)\n",
    "        sound.play()\n",
    "\n",
    "        wait_time = int(self.N*self.delta_time +1)*1000\n",
    "        pygame.time.wait(wait_time)\n",
    "        pygame.quit()"
   ]
  },
  {
   "cell_type": "markdown",
   "id": "c62f5d63-d1bc-4ec1-bbf3-b01ffaf1ab8d",
   "metadata": {},
   "source": [
    "classe Particle"
   ]
  },
  {
   "cell_type": "code",
   "execution_count": 70,
   "id": "1d701087-cc5c-474f-a1c8-4db40ea288fa",
   "metadata": {},
   "outputs": [],
   "source": [
    "class Particle:\n",
    "    d2r =  math.pi / 180;\n",
    "\n",
    "    def __init__(self, x0=0, y0=0, v=0, angle=0):\n",
    "        self.x0 = x0  # initial (t=0 s) x pos in m                                                                                                          \n",
    "        self.y0 = y0  # initial (t=0 s) y pos in m                                                                                                          \n",
    "        self.v = v   # constant speed in m/s                                                                                                                \n",
    "        self.angle = angle   # speed direction in degree                                                                                                    \n",
    "        self.vx = self.v*math.cos(self.angle*self.d2r)\n",
    "        self.vy = self.v*math.sin(self.angle*self.d2r)\n",
    "\n",
    "    # return x-pos at time t                                                                                                                                \n",
    "    def get_x(self, t):\n",
    "        return self.x0 + self.vx*t\n",
    "    # return y-pos at time t                                                                                                                                \n",
    "    def get_y(self, t):\n",
    "        return self.y0 + self.vy*t"
   ]
  },
  {
   "cell_type": "markdown",
   "id": "26a3be26-0ffb-4ba5-a749-a115b6634f49",
   "metadata": {},
   "source": [
    "buffer grafico"
   ]
  },
  {
   "cell_type": "code",
   "execution_count": 71,
   "id": "e9b8570e-66bc-4082-8503-d6426e998108",
   "metadata": {},
   "outputs": [],
   "source": [
    "class GraphBuffer:\n",
    "    # data_to_plot[0,i] = t                                                                                                                                 \n",
    "    # data_to_plot[1,i] = Delta_t                                                                                                                           \n",
    "    # data_to_plot[2,i] = A_xt                                                                                                                              \n",
    "    # data_to_plot[3,i] = A_yt                                                                                                                              \n",
    "    # data_to_plot[4,i] = A_x                                                                                                                               \n",
    "    # data_to_plot[5,i] = A_y                                                                                                                               \n",
    "    # data_to_plot[6,i] = B_x                                                                                                                               \n",
    "    # data_to_plot[7,i] = B_y                                                                                                                               \n",
    "    # data_to_plot[8,i] = f                                                                                                                                 \n",
    "\n",
    "    def __init__(self, N):\n",
    "        self.data_to_plot = np.empty([9,N], dtype = np.float32)\n",
    "        self.last_used = 0\n",
    "        self.Ndata = N\n",
    "\n",
    "    def updateGraphBuffer(self, new_data):\n",
    "        assert(self.last_used < self.Ndata)\n",
    "        for j in range(0,9):\n",
    "            self.data_to_plot[j,self.last_used] = new_data[j]\n",
    "        self.last_used += 1\n",
    "\n",
    "    def plotGraphBuffer(self):\n",
    "        fig, (ax1, ax2) = plt.subplots(2)\n",
    "\n",
    "        ax1.set_title('posizioni')\n",
    "        ax1.set_xlabel('$\\it{x}$ [m]')\n",
    "        ax1.set_ylabel('$\\it{y}$ [m]')\n",
    "        ax1.plot(self.data_to_plot[2], self.data_to_plot[3])\n",
    "        ax1.plot(self.data_to_plot[6], self.data_to_plot[7])\n",
    "\n",
    "        ax2.set_title('frequenza')\n",
    "        ax2.set_xlabel('$\\it{t}$ [s]')\n",
    "        ax2.set_ylabel('$\\it{f}$ [Hz]')\n",
    "        ax2.plot(self.data_to_plot[0], self.data_to_plot[8])\n",
    "\n",
    "        fig.tight_layout()\n",
    "        plt.show(block = False)\n",
    "\n"
   ]
  },
  {
   "cell_type": "markdown",
   "id": "bfeeee00-da5b-4635-9f7b-18ed5069032c",
   "metadata": {},
   "source": [
    "funzione principale"
   ]
  },
  {
   "cell_type": "code",
   "execution_count": 72,
   "id": "f1ce40ac-48fa-4e87-bb8d-8eab90ff9c53",
   "metadata": {},
   "outputs": [],
   "source": [
    "def updatePosAndFreq(t, A, B, S, i):\n",
    "    A_x = A.get_x(t)\n",
    "    A_y = A.get_y(t)\n",
    "\n",
    "    B_x = B.get_x(t)\n",
    "    B_y = B.get_y(t)\n",
    "\n",
    "    d_0x = B_x - A_x\n",
    "    d_0y = B_y - A_y\n",
    "    d_0 = math.sqrt(d_0x**2 + d_0y**2)\n",
    "\n",
    "    delta = (d_0*S.c)**2 - (d_0x*A.vy - d_0y*A.vx)**2\n",
    "\n",
    "    Delta_t = ( -d_0x*A.vx - d_0y*A.vy + math.sqrt(delta) )/(S.c**2 - A.v**2)\n",
    "\n",
    "    A_xt = A.get_x(t-Delta_t)\n",
    "    A_yt = A.get_y(t-Delta_t)\n",
    "\n",
    "    d_x = B_x - A_xt;\n",
    "    d_y = B_y - A_yt;\n",
    "    d = math.sqrt(d_x**2 + d_y**2);\n",
    "\n",
    "    v_Ad = (A.vx*d_x + A.vy*d_y)/d;\n",
    "    v_Bd = (B.vx*d_x + B.vy*d_y)/d;\n",
    "\n",
    "    f = (  (S.c - v_Bd) / (S.c-v_Ad)  ) * S.f0;\n",
    "\n",
    "    updated_data = tuple((t, Delta_t, A_xt, A_yt, A_x, A_y, B_x, B_y, f))\n",
    "\n",
    "    # f is updated_data[8]                                                                                                                                  \n",
    "    return updated_data\n",
    "\n",
    "\n",
    "    return f"
   ]
  },
  {
   "cell_type": "markdown",
   "id": "83ab3bb5-6edc-4f1a-80c8-3b4c8d5aaf95",
   "metadata": {},
   "source": [
    "main"
   ]
  },
  {
   "cell_type": "code",
   "execution_count": 73,
   "id": "aa4a2f30-fe9c-49cd-8de7-24550bd01c05",
   "metadata": {},
   "outputs": [],
   "source": [
    "def main():\n",
    "    S = mySound(f0 = 440, c = 340)\n",
    "\n",
    "    x_A0 = 20\n",
    "    y_A0 = 0\n",
    "    v_A = 30\n",
    "    angle_A = 50\n",
    "    A = Particle(x_A0, y_A0, v_A, angle_A)\n",
    "\n",
    "    x_B0 = 70\n",
    "    y_B0 = 0\n",
    "    v_B = 40\n",
    "    angle_B = 110\n",
    "    B = Particle(x_B0, y_B0, v_B, angle_B)\n",
    "\n",
    "    start_time = 0  # ALWAYS                                                                                                                                \n",
    "    end_time = 3\n",
    "    N = 10000\n",
    "    delta_time = (end_time - start_time)/N\n",
    "\n",
    "    # data buffer to sound                                                                                                                                  \n",
    "    bits = 16\n",
    "    sample_rate = 44100   # sampling rate, Hz, must be integer                                                                                              \n",
    "    buf = AudioBuffer(N, sample_rate, delta_time, bits)\n",
    "\n",
    "    # data to be plotted                                                                                                                                    \n",
    "    graph_data = GraphBuffer(N)\n",
    "\n",
    "    #  for (double t = start_time; t<end_time; t+=delta_time)                                                                                               \n",
    "    for i in range(0,N):\n",
    "        t = i*delta_time\n",
    "        updated_data  = updatePosAndFreq(t, A, B, S, i)\n",
    "        f = updated_data[8]\n",
    "\n",
    "        graph_data.updateGraphBuffer(updated_data)\n",
    "        buf.updateAudioBuffer(i,f)\n",
    "\n",
    "\n",
    "    graph_data.plotGraphBuffer()\n",
    "    buf.makeSoundWithAudioBuffer()"
   ]
  },
  {
   "cell_type": "markdown",
   "id": "50660125-d923-4198-9cbd-ec555cdc672d",
   "metadata": {},
   "source": [
    "finalmente"
   ]
  },
  {
   "cell_type": "code",
   "execution_count": 74,
   "id": "2c96730d-b156-4005-a744-e18163f84c22",
   "metadata": {
    "tags": []
   },
   "outputs": [
    {
     "data": {
      "image/png": "[encoded data removed]",
      "text/plain": [
       "<Figure size 720x576 with 2 Axes>"
      ]
     },
     "metadata": {
      "needs_background": "light"
     },
     "output_type": "display_data"
    }
   ],
   "source": [
    "main()"
   ]
  }
 ],
 "metadata": {
  "kernelspec": {
   "display_name": "Python 3 (ipykernel)",
   "language": "python",
   "name": "python3"
  },
  "language_info": {
   "codemirror_mode": {
    "name": "ipython",
    "version": 3
   },
   "file_extension": ".py",
   "mimetype": "text/x-python",
   "name": "python",
   "nbconvert_exporter": "python",
   "pygments_lexer": "ipython3",
   "version": "3.9.9"
  }
 },
 "nbformat": 4,
 "nbformat_minor": 5
}
